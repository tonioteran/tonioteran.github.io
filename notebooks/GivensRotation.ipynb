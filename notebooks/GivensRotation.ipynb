{
 "cells": [
  {
   "cell_type": "markdown",
   "metadata": {},
   "source": [
    "# Givens Rotations\n",
    "\n",
    "Step-by-step example of incremental QR factorization as outlined in *iSAM: Incremental Smoothing and Mapping* by Kaess et al."
   ]
  },
  {
   "cell_type": "code",
   "execution_count": 1,
   "metadata": {},
   "outputs": [],
   "source": [
    "import numpy as np"
   ]
  },
  {
   "cell_type": "markdown",
   "metadata": {},
   "source": [
    "Create a random matrix $\\mathbf{A}$ to factorize"
   ]
  },
  {
   "cell_type": "code",
   "execution_count": 2,
   "metadata": {},
   "outputs": [
    {
     "name": "stdout",
     "output_type": "stream",
     "text": [
      "[[ 1  2  3]\n",
      " [ 4 -5 -6]\n",
      " [-7  8  9]]\n"
     ]
    }
   ],
   "source": [
    "#A = np.random.rand(4,4)\n",
    "#A = np.matrix([[1,2,3,4],[5,-6,-7,8],[-9,-10,-1,11],[12,-13,-14,-15]])\n",
    "A = np.matrix([[1,2,3], [4,-5,-6], [-7, 8, 9]])\n",
    "print(A)"
   ]
  },
  {
   "cell_type": "code",
   "execution_count": 3,
   "metadata": {},
   "outputs": [],
   "source": [
    "def givensStep(A):\n",
    "    '''\n",
    "    performs a single givens rotation, and outputs result\n",
    "    '''\n",
    "    # Initialize givens rotation matrix\n",
    "    G = np.eye(len(A))\n",
    "    getout = False\n",
    "    for k in range(len(A)):\n",
    "        for i in range(k+1, len(A)):\n",
    "            print(A[i,k])\n",
    "            if np.abs(A[i,k]) >= 1e-10:\n",
    "                alpha = A[k,k]\n",
    "                beta = A[i,k]\n",
    "                print(\"alpha = \" + str(alpha) + \", beta = \" + str(beta))\n",
    "                # Compute Givens Rotation Matrix according to criteria:\n",
    "                if np.abs(beta) > np.abs(alpha):\n",
    "                    c = -alpha/( beta*np.sqrt(1 + (alpha/beta)**2) )\n",
    "                    s = 1/( np.sqrt(1 + (alpha/beta)**2) )\n",
    "                else:\n",
    "                    c = 1/( np.sqrt(1 + (beta/alpha)**2) )\n",
    "                    s = -beta/( alpha*np.sqrt(1 + (beta/alpha)**2) )\n",
    "                G[k,k] = c\n",
    "                G[i,k] = -s\n",
    "                G[k,i] = s\n",
    "                G[i,i] = c\n",
    "                print(\"Givens Rotation\")\n",
    "                print(G)\n",
    "                return(G)\n",
    "                getout = True\n",
    "                break\n",
    "        if getout:\n",
    "            break\n",
    "            \n",
    "        \n",
    "        \n",
    "            "
   ]
  },
  {
   "cell_type": "code",
   "execution_count": 4,
   "metadata": {},
   "outputs": [
    {
     "name": "stdout",
     "output_type": "stream",
     "text": [
      "4\n",
      "alpha = 1, beta = 4\n",
      "Givens Rotation\n",
      "[[-0.24253563  0.9701425   0.        ]\n",
      " [-0.9701425  -0.24253563  0.        ]\n",
      " [ 0.          0.          1.        ]]\n"
     ]
    }
   ],
   "source": [
    "G = givensStep(A)"
   ]
  },
  {
   "cell_type": "code",
   "execution_count": 5,
   "metadata": {},
   "outputs": [
    {
     "data": {
      "text/plain": [
       "matrix([[-4.12310563,  4.36564125,  5.09324813],\n",
       "        [ 0.        ,  3.15296313,  4.36564125],\n",
       "        [-7.        ,  8.        ,  9.        ]])"
      ]
     },
     "execution_count": 5,
     "metadata": {},
     "output_type": "execute_result"
    }
   ],
   "source": [
    "G.transpose()*A"
   ]
  },
  {
   "cell_type": "code",
   "execution_count": 6,
   "metadata": {},
   "outputs": [
    {
     "data": {
      "text/plain": [
       "matrix([[ 1,  2,  3],\n",
       "        [ 4, -5, -6],\n",
       "        [-7,  8,  9]])"
      ]
     },
     "execution_count": 6,
     "metadata": {},
     "output_type": "execute_result"
    }
   ],
   "source": [
    "A"
   ]
  },
  {
   "cell_type": "code",
   "execution_count": 7,
   "metadata": {},
   "outputs": [
    {
     "name": "stdout",
     "output_type": "stream",
     "text": [
      "0.0\n",
      "-7.0\n",
      "alpha = -4.123105625617661, beta = -7.0\n",
      "Givens Rotation\n",
      "[[-0.50751922  0.          0.86164044]\n",
      " [ 0.          1.          0.        ]\n",
      " [-0.86164044  0.         -0.50751922]]\n"
     ]
    }
   ],
   "source": [
    "G2 = givensStep(G.transpose()*A)"
   ]
  },
  {
   "cell_type": "code",
   "execution_count": 8,
   "metadata": {},
   "outputs": [
    {
     "data": {
      "text/plain": [
       "matrix([[ 0.12309149,  0.24618298,  0.36927447],\n",
       "        [-0.9701425 ,  1.21267813,  1.45521375],\n",
       "        [ 3.55263453, -4.06015375, -4.56767297]])"
      ]
     },
     "execution_count": 8,
     "metadata": {},
     "output_type": "execute_result"
    }
   ],
   "source": [
    "G2*G*A"
   ]
  },
  {
   "cell_type": "code",
   "execution_count": 9,
   "metadata": {},
   "outputs": [],
   "source": [
    "alpha = 7.071067811865475\n",
    "beta = 4.0\n"
   ]
  },
  {
   "cell_type": "code",
   "execution_count": 10,
   "metadata": {},
   "outputs": [
    {
     "data": {
      "text/plain": [
       "0.8703882797784892"
      ]
     },
     "execution_count": 10,
     "metadata": {},
     "output_type": "execute_result"
    }
   ],
   "source": [
    "1/np.sqrt(1+(beta/alpha)**2)"
   ]
  },
  {
   "cell_type": "code",
   "execution_count": 11,
   "metadata": {},
   "outputs": [
    {
     "data": {
      "text/plain": [
       "-0.492365963917331"
      ]
     },
     "execution_count": 11,
     "metadata": {},
     "output_type": "execute_result"
    }
   ],
   "source": [
    "-beta/(alpha*np.sqrt(1+(beta/alpha)**2))"
   ]
  },
  {
   "cell_type": "code",
   "execution_count": null,
   "metadata": {},
   "outputs": [],
   "source": []
  },
  {
   "cell_type": "code",
   "execution_count": 12,
   "metadata": {},
   "outputs": [],
   "source": [
    "A = np.matrix([[6,5,0], [5,1,4], [0,4,3]])"
   ]
  },
  {
   "cell_type": "code",
   "execution_count": 18,
   "metadata": {},
   "outputs": [
    {
     "data": {
      "text/plain": [
       "matrix([[6, 5, 0],\n",
       "        [5, 1, 4],\n",
       "        [0, 4, 3]])"
      ]
     },
     "execution_count": 18,
     "metadata": {},
     "output_type": "execute_result"
    }
   ],
   "source": [
    "A"
   ]
  },
  {
   "cell_type": "code",
   "execution_count": 15,
   "metadata": {},
   "outputs": [],
   "source": [
    "G = np.matrix([[0.7682, 0.6402, 0], [-0.6402, 0.7682, 0], [0, 0, 1]])"
   ]
  },
  {
   "cell_type": "code",
   "execution_count": 19,
   "metadata": {},
   "outputs": [
    {
     "data": {
      "text/plain": [
       "matrix([[ 7.8102e+00,  4.4812e+00,  2.5608e+00],\n",
       "        [-2.0000e-04, -2.4328e+00,  3.0728e+00],\n",
       "        [ 0.0000e+00,  4.0000e+00,  3.0000e+00]])"
      ]
     },
     "execution_count": 19,
     "metadata": {},
     "output_type": "execute_result"
    }
   ],
   "source": [
    "G*A"
   ]
  },
  {
   "cell_type": "code",
   "execution_count": null,
   "metadata": {},
   "outputs": [],
   "source": []
  }
 ],
 "metadata": {
  "kernelspec": {
   "display_name": "Python 3",
   "language": "python",
   "name": "python3"
  },
  "language_info": {
   "codemirror_mode": {
    "name": "ipython",
    "version": 3
   },
   "file_extension": ".py",
   "mimetype": "text/x-python",
   "name": "python",
   "nbconvert_exporter": "python",
   "pygments_lexer": "ipython3",
   "version": "3.6.6"
  }
 },
 "nbformat": 4,
 "nbformat_minor": 2
}
