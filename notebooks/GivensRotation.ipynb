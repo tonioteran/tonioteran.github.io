{
 "cells": [
  {
   "cell_type": "markdown",
   "metadata": {},
   "source": [
    "# Givens Rotations\n",
    "\n",
    "Step-by-step example of incremental QR factorization as outlined in *iSAM: Incremental Smoothing and Mapping* by Kaess et al."
   ]
  },
  {
   "cell_type": "code",
   "execution_count": 2,
   "metadata": {},
   "outputs": [],
   "source": [
    "import numpy as np"
   ]
  },
  {
   "cell_type": "markdown",
   "metadata": {},
   "source": [
    "Create a random matrix $\\mathbf{A}$ to factorize"
   ]
  },
  {
   "cell_type": "code",
   "execution_count": 3,
   "metadata": {},
   "outputs": [
    {
     "name": "stdout",
     "output_type": "stream",
     "text": [
      "[[  1   2   3   4]\n",
      " [  5  -6  -7   8]\n",
      " [ -9 -10   0  11]\n",
      " [ 12 -13 -14 -15]]\n"
     ]
    }
   ],
   "source": [
    "#A = np.random.rand(4,4)\n",
    "A = np.matrix([[1,2,3,4],[5,-6,-7,8],[-9,-10,0,11],[12,-13,-14,-15]])\n",
    "print(A)"
   ]
  },
  {
   "cell_type": "code",
   "execution_count": 4,
   "metadata": {},
   "outputs": [
    {
     "data": {
      "text/plain": [
       "array([[1., 0., 0., 0.],\n",
       "       [0., 1., 0., 0.],\n",
       "       [0., 0., 1., 0.],\n",
       "       [0., 0., 0., 1.]])"
      ]
     },
     "execution_count": 4,
     "metadata": {},
     "output_type": "execute_result"
    }
   ],
   "source": [
    "np.eye(4)"
   ]
  },
  {
   "cell_type": "code",
   "execution_count": 18,
   "metadata": {},
   "outputs": [],
   "source": [
    "def givensStep(A):\n",
    "    '''\n",
    "    performs a single givens rotation, and outputs result\n",
    "    '''\n",
    "    # Initialize givens rotation matrix\n",
    "    G = np.eye(4)\n",
    "    getout = False\n",
    "    for k in range(len(A)):\n",
    "        for i in range(k+1, len(A)):\n",
    "            if A[i,k] != 0:\n",
    "                alpha = A[k,k]\n",
    "                beta = A[i,k]\n",
    "                print(\"alpha = \" + str(alpha) + \", beta = \" + str(beta))\n",
    "                # Compute Givens Rotation Matrix according to criteria:\n",
    "                if beta == 0:\n",
    "                    c = 1\n",
    "                    s = 0\n",
    "                elif np.abs(beta) > np.abs(alpha):\n",
    "                    c = -alpha/( beta*np.sqrt(1 + (alpha/beta)**2) )\n",
    "                    s = 1/( np.sqrt(1 + (alpha/beta)**2) )\n",
    "                else:\n",
    "                    c = 1/( np.sqrt(1 + (beta/alpha)**2) )\n",
    "                    s = -beta/( alpha*np.sqrt(1 + (beta/alpha)**2) )\n",
    "                G[k,k] = c\n",
    "                G[i,k] = -s\n",
    "                G[k,i] = s\n",
    "                G[i,i] = c\n",
    "                print(\"Givens Rotation\")\n",
    "                print(G)\n",
    "                return(G)\n",
    "                getout = True\n",
    "                break\n",
    "        if getout:\n",
    "            break\n",
    "            \n",
    "        \n",
    "        \n",
    "            "
   ]
  },
  {
   "cell_type": "code",
   "execution_count": 19,
   "metadata": {},
   "outputs": [
    {
     "name": "stdout",
     "output_type": "stream",
     "text": [
      "alpha = 1, beta = 5\n",
      "Givens Rotation\n",
      "[[-0.19611614  0.98058068  0.          0.        ]\n",
      " [-0.98058068 -0.19611614  0.          0.        ]\n",
      " [ 0.          0.          1.          0.        ]\n",
      " [ 0.          0.          0.          1.        ]]\n"
     ]
    }
   ],
   "source": [
    "G = givensStep(A)"
   ]
  },
  {
   "cell_type": "code",
   "execution_count": 22,
   "metadata": {},
   "outputs": [
    {
     "data": {
      "text/plain": [
       "matrix([[  4.70678724,  -6.27571632,  -7.45241314,   7.06018086],\n",
       "        [ -1.96116135,  -0.78446454,  -1.56892908,  -5.49125178],\n",
       "        [ -9.        , -10.        ,   0.        ,  11.        ],\n",
       "        [ 12.        , -13.        , -14.        , -15.        ]])"
      ]
     },
     "execution_count": 22,
     "metadata": {},
     "output_type": "execute_result"
    }
   ],
   "source": [
    "G*A"
   ]
  },
  {
   "cell_type": "code",
   "execution_count": 27,
   "metadata": {},
   "outputs": [
    {
     "data": {
      "text/plain": [
       "matrix([[-5.09901951e+00,  5.49125178e+00,  6.27571632e+00,\n",
       "         -8.62910995e+00],\n",
       "        [ 2.77555756e-17,  3.13785816e+00,  4.31455497e+00,\n",
       "          2.35339362e+00],\n",
       "        [-9.00000000e+00, -1.00000000e+01,  0.00000000e+00,\n",
       "          1.10000000e+01],\n",
       "        [ 1.20000000e+01, -1.30000000e+01, -1.40000000e+01,\n",
       "         -1.50000000e+01]])"
      ]
     },
     "execution_count": 27,
     "metadata": {},
     "output_type": "execute_result"
    }
   ],
   "source": [
    "G.transpose()*A"
   ]
  },
  {
   "cell_type": "code",
   "execution_count": 28,
   "metadata": {},
   "outputs": [],
   "source": [
    "np.set_printoptions(suppress=True)\n"
   ]
  },
  {
   "cell_type": "code",
   "execution_count": 34,
   "metadata": {},
   "outputs": [
    {
     "name": "stdout",
     "output_type": "stream",
     "text": [
      "alpha = -5.0990195135927845, beta = 2.7755575615628914e-17\n",
      "Givens Rotation\n",
      "[[ 1.  0.  0.  0.]\n",
      " [-0.  1.  0.  0.]\n",
      " [ 0.  0.  1.  0.]\n",
      " [ 0.  0.  0.  1.]]\n"
     ]
    }
   ],
   "source": [
    "G2 = givensStep(G.transpose()*A)"
   ]
  },
  {
   "cell_type": "code",
   "execution_count": 37,
   "metadata": {},
   "outputs": [
    {
     "data": {
      "text/plain": [
       "matrix([[ -0.19611614,  -0.39223227,  -0.58834841,  -0.78446454],\n",
       "        [ -0.98058068,   1.17669681,   1.37281295,  -1.56892908],\n",
       "        [ -9.        , -10.        ,   0.        ,  11.        ],\n",
       "        [ 12.        , -13.        , -14.        , -15.        ]])"
      ]
     },
     "execution_count": 37,
     "metadata": {},
     "output_type": "execute_result"
    }
   ],
   "source": [
    "G2.transpose()*G.transpose()*A"
   ]
  },
  {
   "cell_type": "code",
   "execution_count": null,
   "metadata": {},
   "outputs": [],
   "source": []
  }
 ],
 "metadata": {
  "kernelspec": {
   "display_name": "Python 3",
   "language": "python",
   "name": "python3"
  },
  "language_info": {
   "codemirror_mode": {
    "name": "ipython",
    "version": 3
   },
   "file_extension": ".py",
   "mimetype": "text/x-python",
   "name": "python",
   "nbconvert_exporter": "python",
   "pygments_lexer": "ipython3",
   "version": "3.6.6"
  }
 },
 "nbformat": 4,
 "nbformat_minor": 2
}
